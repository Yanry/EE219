{
 "cells": [
  {
   "cell_type": "markdown",
   "metadata": {},
   "source": [
    "# Lab 2 Quantization"
   ]
  },
  {
   "cell_type": "markdown",
   "metadata": {},
   "source": [
    "Originally developed by instructor Sophia (Yakun) Shao and TAs Alon Amid & Hasan Genc from UC Berkeley, 2020 Spring, \"Hardware for Machine Learning\". Adpated by 2024 Fall \"AI Computing Systems\" teaching team.\n",
    "\n",
    "You are required to fill in the blanks with your code **independently** to complete the quantization process (weights, activations and biases quantization), so we can simulate and verify the quantized NN model on floating-point hardware (CPUs or GPGPUs). It provides us the confidence that the model can be run on a customized 8-bit hardware with limited loss of accuracy. \n",
    "\n",
    "**Throughout this experiment, we use symmetric quantization, which means the \"zero point\" should be 0. Please make sure your results are reproducible and do not change the structure of the CNN (1 point)**.\n"
   ]
  },
  {
   "cell_type": "markdown",
   "metadata": {},
   "source": [
    "## Initial Setup"
   ]
  },
  {
   "cell_type": "markdown",
   "metadata": {},
   "source": [
    "Before beginning the assignment, we import the CIFAR dataset, and train the simple convolutional neural network (CNN) built in Lab1 to classify it."
   ]
  },
  {
   "cell_type": "code",
   "execution_count": 6,
   "metadata": {},
   "outputs": [],
   "source": [
    "import torch\n",
    "import torchvision\n",
    "import torchvision.transforms as transforms\n",
    "import torch.nn as nn\n",
    "import torch.nn.functional as F\n",
    "import torch.optim as optim\n",
    "import os \n",
    "os.environ['KMP_DUPLICATE_LIB_OK'] = 'TRUE'"
   ]
  },
  {
   "cell_type": "markdown",
   "metadata": {},
   "source": [
    "**Reminder:** set the runtime type to \"GPU\" if it is available. "
   ]
  },
  {
   "cell_type": "code",
   "execution_count": 7,
   "metadata": {},
   "outputs": [
    {
     "data": {
      "text/plain": [
       "<torch._C.Generator at 0x7fac88b32510>"
      ]
     },
     "execution_count": 7,
     "metadata": {},
     "output_type": "execute_result"
    }
   ],
   "source": [
    "if torch.cuda.is_available():\n",
    "    device = torch.device('cuda')\n",
    "else:\n",
    "    device = torch.device('cpu')\n",
    "torch.manual_seed(2024219)"
   ]
  },
  {
   "cell_type": "markdown",
   "metadata": {},
   "source": [
    "Load training and test data from the CIFAR10 dataset."
   ]
  },
  {
   "cell_type": "code",
   "execution_count": 8,
   "metadata": {},
   "outputs": [
    {
     "name": "stdout",
     "output_type": "stream",
     "text": [
      "Files already downloaded and verified\n",
      "Files already downloaded and verified\n"
     ]
    }
   ],
   "source": [
    "transform = transforms.Compose(\n",
    "    [transforms.ToTensor(),\n",
    "     transforms.Normalize((0.5, 0.5, 0.5), (0.5, 0.5, 0.5))])\n",
    "\n",
    "trainset = torchvision.datasets.CIFAR10(root='/home/ubuntu/data', train=True,\n",
    "                                        download=True, transform=transform)\n",
    "trainloader = torch.utils.data.DataLoader(trainset, batch_size=100,\n",
    "                                          shuffle=False, num_workers=8)\n",
    "\n",
    "testset = torchvision.datasets.CIFAR10(root='/home/ubuntu/data', train=False,\n",
    "                                       download=True, transform=transform)\n",
    "testloader = torch.utils.data.DataLoader(testset, batch_size=100,\n",
    "                                         shuffle=False, num_workers=8)"
   ]
  },
  {
   "cell_type": "markdown",
   "metadata": {},
   "source": [
    "The simple CNN that classifies CIFAR images is built in Lab 1 and has the has the following architecture:"
   ]
  },
  {
   "cell_type": "markdown",
   "metadata": {},
   "source": [
    "**Layer** | **Type** | **Input Shape** | **Output Shape** | **Activation**\n",
    "--- | --- | --- | --- | ---\n",
    "conv1 | Convolutional | 3x32x32 | 12x28x28 | ReLU \n",
    "pool1 | Max pool | 12x28x28 | 12x14x14 | None                \n",
    "conv2 | Convolutional | 12x14x14 | 32x12x12 | ReLU                \n",
    "pool2 | Max pool | 32x12x12 | 32x6x6 | None                \n",
    "fc1 | Fully-connected | 1152 | 256 | ReLU                \n",
    "fc2 | Fully-connected | 256 | 64 | ReLU                \n",
    "fc3 | Fully-connected | 64 | 10 | None                \n",
    "\n",
    "None of the layers in the network have a bias associated with them.\n",
    "This makes them easier to quantize.\n",
    "Towards the end of this assignment, we will add biases to the final layer and quantize it as well."
   ]
  },
  {
   "cell_type": "code",
   "execution_count": 9,
   "metadata": {},
   "outputs": [],
   "source": [
    "class Net(nn.Module):\n",
    "    def __init__(self):\n",
    "        super(Net, self).__init__()\n",
    "        self.conv1 = nn.Conv2d(3, 12, 5, bias=False)\n",
    "        self.pool = nn.MaxPool2d(2, 2) # run after each conv (hence the 5x5 FC layer)\n",
    "        self.conv2 = nn.Conv2d(12, 32, 3, bias=False)\n",
    "        self.fc1 = nn.Linear(32 * 6 * 6, 256, bias=False)\n",
    "        self.fc2 = nn.Linear(256, 64, bias=False)\n",
    "        self.fc3 = nn.Linear(64, 10, bias=False)\n",
    "\n",
    "    def forward(self, x: torch.Tensor) -> torch.Tensor:\n",
    "        x = self.pool(F.relu(self.conv1(x)))\n",
    "        x = self.pool(F.relu(self.conv2(x)))\n",
    "        x = x.view(-1, 32 * 6 * 6)\n",
    "        x = F.relu(self.fc1(x))\n",
    "        x = F.relu(self.fc2(x))\n",
    "        x = self.fc3(x)\n",
    "        return x\n",
    "\n",
    "net = Net().to(device)"
   ]
  },
  {
   "cell_type": "markdown",
   "metadata": {},
   "source": [
    "Define the training and testing process."
   ]
  },
  {
   "cell_type": "code",
   "execution_count": 10,
   "metadata": {},
   "outputs": [],
   "source": [
    "from torch.utils.data import DataLoader\n",
    "\n",
    "def train(model: nn.Module, dataloader: DataLoader):\n",
    "    criterion = nn.CrossEntropyLoss()\n",
    "    optimizer = optim.SGD(model.parameters(), lr=0.015, momentum=0.9)\n",
    "\n",
    "    for epoch in range(10):  # loop over the dataset multiple (2) times\n",
    "\n",
    "        running_loss = 0.0\n",
    "        for i, data in enumerate(dataloader, 0):\n",
    "            # get the inputs; data is a list of [inputs, labels]\n",
    "            inputs, labels = data\n",
    "\n",
    "            inputs = inputs.to(device)\n",
    "            labels = labels.to(device)\n",
    "\n",
    "            # zero the parameter gradients\n",
    "            optimizer.zero_grad()\n",
    "\n",
    "            # forward + backward + optimize\n",
    "            outputs = model(inputs)\n",
    "            loss = criterion(outputs, labels)\n",
    "            loss.backward()\n",
    "            optimizer.step()\n",
    "\n",
    "            # print statistics\n",
    "            running_loss += loss.item()\n",
    "            if i % 100 == 99:    # print every 100 mini-batches\n",
    "                print('[Epoch: %d, Iteration: %5d] loss: %.3f' %\n",
    "                    (epoch + 1, i + 1, running_loss / 100))\n",
    "                running_loss = 0.0\n",
    "\n",
    "    print('Finished Training')\n",
    "\n",
    "def test(model: nn.Module, dataloader: DataLoader, max_samples=None) -> float:\n",
    "    correct = 0\n",
    "    total = 0\n",
    "    n_inferences = 0\n",
    "\n",
    "    with torch.no_grad():\n",
    "        for data in dataloader:\n",
    "            images, labels = data\n",
    "\n",
    "            images = images.to(device)\n",
    "            labels = labels.to(device)\n",
    "\n",
    "            outputs = model(images) # get 1 batch worth of image predictions (i.e. 4 predictions of 10 each)\n",
    "            other, predicted = torch.max(outputs.data, 1) # other == values, predicted == indicies\n",
    "            total += labels.size(0)\n",
    "            correct += (predicted == labels).sum().item()\n",
    "\n",
    "            if max_samples:\n",
    "                n_inferences += images.shape[0]\n",
    "                if n_inferences > max_samples:\n",
    "                    break\n",
    "    \n",
    "    return 100 * correct / total"
   ]
  },
  {
   "cell_type": "markdown",
   "metadata": {},
   "source": [
    "Train this CNN on the training dataset (this may take 20 seconds)."
   ]
  },
  {
   "cell_type": "code",
   "execution_count": 11,
   "metadata": {},
   "outputs": [
    {
     "name": "stdout",
     "output_type": "stream",
     "text": [
      "[Epoch: 1, Iteration:   100] loss: 2.278\n",
      "[Epoch: 1, Iteration:   200] loss: 1.994\n",
      "[Epoch: 1, Iteration:   300] loss: 1.715\n",
      "[Epoch: 1, Iteration:   400] loss: 1.615\n",
      "[Epoch: 1, Iteration:   500] loss: 1.525\n",
      "[Epoch: 2, Iteration:   100] loss: 1.433\n",
      "[Epoch: 2, Iteration:   200] loss: 1.393\n",
      "[Epoch: 2, Iteration:   300] loss: 1.300\n",
      "[Epoch: 2, Iteration:   400] loss: 1.269\n",
      "[Epoch: 2, Iteration:   500] loss: 1.230\n",
      "[Epoch: 3, Iteration:   100] loss: 1.163\n",
      "[Epoch: 3, Iteration:   200] loss: 1.162\n",
      "[Epoch: 3, Iteration:   300] loss: 1.079\n",
      "[Epoch: 3, Iteration:   400] loss: 1.070\n",
      "[Epoch: 3, Iteration:   500] loss: 1.034\n",
      "[Epoch: 4, Iteration:   100] loss: 1.002\n",
      "[Epoch: 4, Iteration:   200] loss: 0.996\n",
      "[Epoch: 4, Iteration:   300] loss: 0.938\n",
      "[Epoch: 4, Iteration:   400] loss: 0.928\n",
      "[Epoch: 4, Iteration:   500] loss: 0.902\n",
      "[Epoch: 5, Iteration:   100] loss: 0.871\n",
      "[Epoch: 5, Iteration:   200] loss: 0.874\n",
      "[Epoch: 5, Iteration:   300] loss: 0.820\n",
      "[Epoch: 5, Iteration:   400] loss: 0.810\n",
      "[Epoch: 5, Iteration:   500] loss: 0.795\n",
      "[Epoch: 6, Iteration:   100] loss: 0.782\n",
      "[Epoch: 6, Iteration:   200] loss: 0.782\n",
      "[Epoch: 6, Iteration:   300] loss: 0.725\n",
      "[Epoch: 6, Iteration:   400] loss: 0.728\n",
      "[Epoch: 6, Iteration:   500] loss: 0.732\n",
      "[Epoch: 7, Iteration:   100] loss: 0.679\n",
      "[Epoch: 7, Iteration:   200] loss: 0.707\n",
      "[Epoch: 7, Iteration:   300] loss: 0.655\n",
      "[Epoch: 7, Iteration:   400] loss: 0.677\n",
      "[Epoch: 7, Iteration:   500] loss: 0.644\n",
      "[Epoch: 8, Iteration:   100] loss: 0.604\n",
      "[Epoch: 8, Iteration:   200] loss: 0.638\n",
      "[Epoch: 8, Iteration:   300] loss: 0.581\n",
      "[Epoch: 8, Iteration:   400] loss: 0.599\n",
      "[Epoch: 8, Iteration:   500] loss: 0.588\n",
      "[Epoch: 9, Iteration:   100] loss: 0.544\n",
      "[Epoch: 9, Iteration:   200] loss: 0.580\n",
      "[Epoch: 9, Iteration:   300] loss: 0.524\n",
      "[Epoch: 9, Iteration:   400] loss: 0.530\n",
      "[Epoch: 9, Iteration:   500] loss: 0.542\n",
      "[Epoch: 10, Iteration:   100] loss: 0.537\n",
      "[Epoch: 10, Iteration:   200] loss: 0.541\n",
      "[Epoch: 10, Iteration:   300] loss: 0.493\n",
      "[Epoch: 10, Iteration:   400] loss: 0.484\n",
      "[Epoch: 10, Iteration:   500] loss: 0.469\n",
      "Finished Training\n"
     ]
    }
   ],
   "source": [
    "train(net, trainloader)"
   ]
  },
  {
   "cell_type": "markdown",
   "metadata": {},
   "source": [
    "Now that the CNN has been trained, let's test it on our test dataset. The test accuracy should be above 60% after 10 epochs of training.  **Report this accuracy (1 point).**"
   ]
  },
  {
   "cell_type": "code",
   "execution_count": 12,
   "metadata": {},
   "outputs": [
    {
     "name": "stdout",
     "output_type": "stream",
     "text": [
      "Accuracy of the network on the test images: 62.87%\n"
     ]
    }
   ],
   "source": [
    "score = test(net, testloader)\n",
    "print('Accuracy of the network on the test images: {}%'.format(score))"
   ]
  },
  {
   "cell_type": "markdown",
   "metadata": {},
   "source": [
    "Define a convenience function which we use to copy CNN's for version control."
   ]
  },
  {
   "cell_type": "code",
   "execution_count": 13,
   "metadata": {},
   "outputs": [],
   "source": [
    "from copy import deepcopy\n",
    "\n",
    "def copy_model(model: nn.Module) -> nn.Module:\n",
    "    result = deepcopy(model)\n",
    "\n",
    "    # Copy over the extra metadata we've collected which copy.deepcopy doesn't capture\n",
    "    if hasattr(model, 'input_activations'):\n",
    "        result.input_activations = deepcopy(model.input_activations)\n",
    "\n",
    "    for result_layer, original_layer in zip(result.children(), model.children()):\n",
    "        if isinstance(result_layer, nn.Conv2d) or isinstance(result_layer, nn.Linear):\n",
    "            if hasattr(original_layer.weight, 'scale'):\n",
    "                result_layer.weight.scale = deepcopy(original_layer.weight.scale)\n",
    "            if hasattr(original_layer, 'activations'):\n",
    "                result_layer.activations = deepcopy(original_layer.activations)\n",
    "            if hasattr(original_layer, 'output_scale'):\n",
    "                result_layer.output_scale = deepcopy(original_layer.output_scale)\n",
    "\n",
    "    return result"
   ]
  },
  {
   "cell_type": "markdown",
   "metadata": {},
   "source": [
    "## Question 1: Visualize Weights\n",
    "### Question 1.1:\n",
    "\n",
    "Plot histograms of the weights of every convolutional and fully-connected layer. Record any observations you make about the distribution of the values and report."
   ]
  },
  {
   "cell_type": "code",
   "execution_count": 14,
   "metadata": {},
   "outputs": [],
   "source": [
    "# Possible required lib\n",
    "import matplotlib.pyplot as plt\n",
    "import numpy as np"
   ]
  },
  {
   "cell_type": "markdown",
   "metadata": {},
   "source": [
    "**ADD YOUR CODE HERE to plot distributions of weights of the original NN model. Add them to the report (0.5 point)**"
   ]
  },
  {
   "cell_type": "code",
   "execution_count": 15,
   "metadata": {},
   "outputs": [
    {
     "data": {
      "text/plain": [
       "Text(0.5, 1.0, 'fc3 weights')"
      ]
     },
     "execution_count": 15,
     "metadata": {},
     "output_type": "execute_result"
    },
    {
     "data": {
      "image/png": "[encoded data removed]",
      "text/plain": [
       "<Figure size 1000x500 with 2 Axes>"
      ]
     },
     "metadata": {},
     "output_type": "display_data"
    },
    {
     "data": {
      "image/png": "[encoded data removed]",
      "text/plain": [
       "<Figure size 1500x500 with 3 Axes>"
      ]
     },
     "metadata": {},
     "output_type": "display_data"
    }
   ],
   "source": [
    "# ADD YOUR CODE HERE\n",
    "\n",
    "# You can get a flattened vector of the weights of fc1 like this:\n",
    "#   fc1_weights = net.fc1.weight.data.cpu().view(-1)\n",
    "# Try plotting a histogram of fc1_weights (and the weights of all the other layers as well)\n",
    "# You can use \"hist\" from the matplotlib.pyplot package.\n",
    "conv_hist, (conv1_hist, conv2_hist) = plt.subplots(1, 2, figsize=(10,5))\n",
    "# conv1\n",
    "conv1_weights = net.conv1.weight.data.cpu().view(-1)\n",
    "conv1_hist.hist(conv1_weights)\n",
    "conv1_hist.set_title('conv1 weights')\n",
    "# conv2\n",
    "conv2_weights = net.conv2.weight.data.cpu().view(-1)\n",
    "conv2_hist.hist(conv2_weights)\n",
    "conv2_hist.set_title('conv2 weights')\n",
    "\n",
    "fc_hist, (fc1_hist, fc2_hist, fc3_hist) = plt.subplots(1, 3, figsize=(15,5))\n",
    "# fc1\n",
    "fc1_weights = net.fc1.weight.data.cpu().view(-1)\n",
    "fc1_hist.hist(fc1_weights)\n",
    "fc1_hist.set_title('fc1 weights')\n",
    "# fc2\n",
    "fc2_weights = net.fc2.weight.data.cpu().view(-1)\n",
    "fc2_hist.hist(fc2_weights)\n",
    "fc2_hist.set_title('fc2 weights')\n",
    "# fc3\n",
    "fc3_weights = net.fc3.weight.data.cpu().view(-1)\n",
    "fc3_hist.hist(fc3_weights)\n",
    "fc3_hist.set_title('fc3 weights')"
   ]
  },
  {
   "cell_type": "markdown",
   "metadata": {},
   "source": [
    "### Question 1.2:\n",
    "\n",
    "Record the range of the weights, as well as their 3-sigma range (the difference between $\\mu + 3\\sigma$ and $\\mu - 3\\sigma$).\n",
    "For which layers is the 3-sigma range larger or smaller than the actual range?\n",
    "\n",
    "**ADD YOUR CODE HERE to record the 3-sigma and actual range of the weights in each layer. Report the results (0.5 point)**"
   ]
  },
  {
   "cell_type": "code",
   "execution_count": 16,
   "metadata": {},
   "outputs": [
    {
     "name": "stdout",
     "output_type": "stream",
     "text": [
      "conv1 range: 2.2274460792541504 , conv1 3-sigma range: 1.9435018301010132\n",
      "conv2 range: 1.5948420763015747 , conv2 3-sigma range: 1.1135677099227905\n",
      "fc1 range: 0.49887335300445557 , fc1 3-sigma range: 0.2604566812515259\n",
      "fc2 range: 0.6545895934104919 , fc2 3-sigma range: 0.4714769124984741\n",
      "fc3 range: 1.2484254837036133 , fc3 3-sigma range: 1.3308308124542236\n"
     ]
    }
   ],
   "source": [
    "# Useful functions: torch.min/max/mean/std\n",
    "# conv1\n",
    "conv1_range = torch.max(conv1_weights) - torch.min(conv1_weights)\n",
    "conv1_3s_range = 6*torch.std(conv1_weights)\n",
    "print('conv1 range:', conv1_range.item(), ', conv1 3-sigma range:', conv1_3s_range.item())\n",
    "# conv2\n",
    "conv2_range = torch.max(conv2_weights) - torch.min(conv2_weights)\n",
    "conv2_3s_range = 6*torch.std(conv2_weights)\n",
    "print('conv2 range:', conv2_range.item(), ', conv2 3-sigma range:', conv2_3s_range.item())\n",
    "# fc1\n",
    "fc1_range = torch.max(fc1_weights) - torch.min(fc1_weights)\n",
    "fc1_3s_range = 6*torch.std(fc1_weights)\n",
    "print('fc1 range:', fc1_range.item(), ', fc1 3-sigma range:', fc1_3s_range.item())\n",
    "# fc2\n",
    "fc2_range = torch.max(fc2_weights) - torch.min(fc2_weights)\n",
    "fc2_3s_range = 6*torch.std(fc2_weights)\n",
    "print('fc2 range:', fc2_range.item(), ', fc2 3-sigma range:', fc2_3s_range.item())\n",
    "# fc3\n",
    "fc3_range = torch.max(fc3_weights) - torch.min(fc3_weights)\n",
    "fc3_3s_range = 6*torch.std(fc3_weights)\n",
    "print('fc3 range:', fc3_range.item(), ', fc3 3-sigma range:', fc3_3s_range.item())"
   ]
  },
  {
   "cell_type": "markdown",
   "metadata": {},
   "source": [
    "## Question 2: Quantize Weights"
   ]
  },
  {
   "cell_type": "markdown",
   "metadata": {},
   "source": [
    "Any convolution or fully-connected layer pass, without a bias, can be described by the equation:\n",
    "\n",
    "$$W*In = Out$$\n",
    "\n",
    "where $W$ is the weight tensor, $In$ in the input tensor, and $Out$ is the output tensor.\n",
    "\n",
    "For this question, your task is to find a *scaling factor*, called $s_W$ for each convolutional and fully connected layer,\n",
    "which would fit inside an 8-bit signed integer.\n",
    "This equation can now be described as the following:\n",
    "\n",
    "<!-- $$/*In = Out/s_W$$ -->\n",
    "$$\\frac{W}{s_W}*In = \\frac{Out}{s_W}$$\n",
    "\n",
    "You might wonder: \"Isn't it a problem that the output of the layer has now changed? Wouldn't quantizing the weights change the output of the neural net?\"\n",
    "\n",
    "The answer, of course, is: \"Yes\".\n",
    "However, what we care about is not the *absolute* values output by the CNN, but the relative difference between the probabilities it assigns to different classes for its predictions.\n",
    "Quantizing the weights only scales this relative difference up or down, but it does not affect which class the network assigns the most probability to.\n",
    "Therefore, it does not affect the final predictions that the neural net makes."
   ]
  },
  {
   "cell_type": "markdown",
   "metadata": {},
   "source": [
    "Copy the original model into a new model."
   ]
  },
  {
   "cell_type": "code",
   "execution_count": 17,
   "metadata": {},
   "outputs": [],
   "source": [
    "net_q2 = copy_model(net)"
   ]
  },
  {
   "cell_type": "markdown",
   "metadata": {},
   "source": [
    "### Question 2.1:\n",
    "\n",
    "**Fill in the `quantized_weights` function.**\n",
    "The template code we provide will then call this function on the weights of every layer in the CNN that we just trained at 32-bit floating point precision, to lower them into 8-bit signed integer (2'complement, -128~127) precision."
   ]
  },
  {
   "cell_type": "code",
   "execution_count": 18,
   "metadata": {},
   "outputs": [],
   "source": [
    "from typing import Tuple\n",
    "\n",
    "def quantized_weights(weights: torch.Tensor) -> Tuple[torch.Tensor, float]:\n",
    "    '''\n",
    "    Quantize the weights so that all values are integers between -128 and 127.\n",
    "    You may want to use the maxmimum absolute value of total range, 3-sigma range, \n",
    "    or other ranges for symmetric quantization when deciding just what factors to \n",
    "    scale the float32 values by.\n",
    "\n",
    "    Parameters:\n",
    "    weights (Tensor): The unquantized weights\n",
    "\n",
    "    Returns:\n",
    "    (Tensor, float): A tuple with the following elements:\n",
    "                        * The weights in quantized form, where every value is an integer between -128 and 127.\n",
    "                          The \"dtype\" will still be \"float\", but the values themselves should all be integers.\n",
    "                        * The scaling factor that your weights were multiplied by.\n",
    "                          This value does not need to be an 8-bit integer.\n",
    "    '''\n",
    "\n",
    "    ''' \n",
    "    ADD YOUR CODE HERE to compute 'result' and change 'scale'. \n",
    "    We consider only symmetric quantization, which means zeros point is exactly 0.\n",
    "    After that, return the 'scale' together with the quantized number, 'result', in [-128,127].\n",
    "    '''\n",
    "    scale = 1\n",
    "    result = 0\n",
    "    u = torch.mean(weights)\n",
    "    sigma = torch.std(weights)\n",
    "    weights_range = torch.max((u+3*sigma), torch.abs(u-3*sigma)) * 2\n",
    "    s_w = weights_range / (127 - (-128))\n",
    "    result = torch.round(weights / s_w)\n",
    "    scale = s_w\n",
    "    return torch.clamp(result, min=-128, max=127), scale"
   ]
  },
  {
   "cell_type": "code",
   "execution_count": 19,
   "metadata": {},
   "outputs": [],
   "source": [
    "def quantize_layer_weights(model: nn.Module):\n",
    "    # Quantize the weights layer by layer and record the scale factors and quantized weights\n",
    "    for layer in model.children():\n",
    "        if isinstance(layer, nn.Conv2d) or isinstance(layer, nn.Linear):\n",
    "            # Quantize the weights using the function you just developed\n",
    "            q_layer_data, scale = quantized_weights(layer.weight.data)\n",
    "            q_layer_data = q_layer_data.to(device)\n",
    "\n",
    "            layer.weight.data = q_layer_data\n",
    "            layer.weight.scale = scale\n",
    "            \n",
    "            # Check if the weights are quantized properly, your code should be okay if no exception is raised.\n",
    "            # Otherwise, please check your code.\n",
    "            if (q_layer_data < -128).any() or (q_layer_data > 127).any():\n",
    "                raise Exception(\"Quantized weights of {} layer include values out of bounds for an 8-bit signed integer\".format(layer.__class__.__name__))\n",
    "            if (q_layer_data != q_layer_data.round()).any():\n",
    "                raise Exception(\"Quantized weights of {} layer include non-integer values\".format(layer.__class__.__name__))\n",
    "\n",
    "quantize_layer_weights(net_q2)"
   ]
  },
  {
   "cell_type": "markdown",
   "metadata": {},
   "source": [
    "### Question 2.2:\n",
    "\n",
    "**Record the accuracy change of the network after quantizing its weights and report. (1 point)**"
   ]
  },
  {
   "cell_type": "code",
   "execution_count": 20,
   "metadata": {},
   "outputs": [
    {
     "name": "stdout",
     "output_type": "stream",
     "text": [
      "Accuracy of the network after quantizing all weights: 61.91%\n"
     ]
    }
   ],
   "source": [
    "score = test(net_q2, testloader)\n",
    "print('Accuracy of the network after quantizing all weights: {}%'.format(score))"
   ]
  },
  {
   "cell_type": "markdown",
   "metadata": {},
   "source": [
    "## Question 3: Visualize Activations"
   ]
  },
  {
   "cell_type": "markdown",
   "metadata": {},
   "source": [
    "Now that we have quantized the weights of the CNN, we must also quantize the activations (inputs and outputs to layers) traveling through it.\n",
    "But before doing so, let's analyze what values the activations take when travelling through the network.\n",
    "\n",
    "We provide convenience code which will record the values of every pixel of the outputs and inputs travelling through the neural network.\n",
    "(This is the initial CNN, where not even the weights had yet been quantized).\n",
    "We then profile these values when running on a subset of the training set (calibration data)."
   ]
  },
  {
   "cell_type": "code",
   "execution_count": 24,
   "metadata": {},
   "outputs": [],
   "source": [
    "def register_activation_profiling_hooks(model: Net):\n",
    "    # initialize the activations with empty ndarray\n",
    "    model.input_activations = np.empty(0)\n",
    "    model.conv1.activations = np.empty(0)\n",
    "    model.conv2.activations = np.empty(0)\n",
    "    model.fc1.activations = np.empty(0)\n",
    "    model.fc2.activations = np.empty(0)\n",
    "    model.fc3.activations = np.empty(0)\n",
    "\n",
    "    model.profile_activations = True\n",
    "\n",
    "    def conv1_activations_hook(layer, x, y):\n",
    "        if model.profile_activations:\n",
    "            model.input_activations = np.append(model.input_activations, x[0].cpu().view(-1))\n",
    "    model.conv1.register_forward_hook(conv1_activations_hook)\n",
    "    # function register_forward_hook is used to obtain the activations, which would otherwise be abandoned as\n",
    "    # intermediate variables. For more details, please refer to \n",
    "    # https://pytorch.org/docs/stable/notes/modules.html#module-initialization\n",
    "    # Module Hooks\n",
    "\n",
    "    def conv2_activations_hook(layer, x, y):\n",
    "        if model.profile_activations:\n",
    "            model.conv1.activations = np.append(model.conv1.activations, x[0].cpu().view(-1))\n",
    "    model.conv2.register_forward_hook(conv2_activations_hook)\n",
    "\n",
    "    def fc1_activations_hook(layer, x, y):\n",
    "        if model.profile_activations:\n",
    "            model.conv2.activations = np.append(model.conv2.activations, x[0].cpu().view(-1))\n",
    "    model.fc1.register_forward_hook(fc1_activations_hook)\n",
    "\n",
    "    def fc2_activations_hook(layer, x, y):\n",
    "        if model.profile_activations:\n",
    "            model.fc1.activations = np.append(model.fc1.activations, x[0].cpu().view(-1))\n",
    "    model.fc2.register_forward_hook(fc2_activations_hook)\n",
    "\n",
    "    def fc3_activations_hook(layer, x, y):\n",
    "        if model.profile_activations:\n",
    "            model.fc2.activations = np.append(model.fc2.activations, x[0].cpu().view(-1))\n",
    "            model.fc3.activations = np.append(model.fc3.activations, y[0].cpu().view(-1))\n",
    "    model.fc3.register_forward_hook(fc3_activations_hook)\n"
   ]
  },
  {
   "cell_type": "markdown",
   "metadata": {},
   "source": [
    "Use the unquantized model to profile input and output activations on a subset of the training dataset."
   ]
  },
  {
   "cell_type": "code",
   "execution_count": 25,
   "metadata": {},
   "outputs": [],
   "source": [
    "net_q3 = copy_model(net)\n",
    "# activate the hook record activations\n",
    "register_activation_profiling_hooks(net_q3)\n",
    "\n",
    "# Run through the training dataset again while profiling the input and output activations this time\n",
    "# We don't actually have to perform gradient descent for this, so we can use the \"test\" function\n",
    "test(net_q3, trainloader, max_samples=1000)\n",
    "net_q3.profile_activations = False"
   ]
  },
  {
   "cell_type": "code",
   "execution_count": 26,
   "metadata": {},
   "outputs": [],
   "source": [
    "# Fetch the activations\n",
    "input_activations = net_q3.input_activations\n",
    "conv1_output_activations = net_q3.conv1.activations\n",
    "conv2_output_activations = net_q3.conv2.activations\n",
    "fc1_output_activations = net_q3.fc1.activations\n",
    "fc2_output_activations = net_q3.fc2.activations\n",
    "fc3_output_activations = net_q3.fc3.activations"
   ]
  },
  {
   "cell_type": "markdown",
   "metadata": {},
   "source": [
    "### Question 3.1:\n",
    "\n",
    "**Plot histograms of the input images and the outputs of every convolutional and fully-connected layer. \n",
    "Record any observations you make about the distribution of the values. (0.5 point)** Remember that you are plotting the activations *after* activation functions like ReLU have been applied, which means that you should not be worried if you find that your plots are asymmetric."
   ]
  },
  {
   "cell_type": "code",
   "execution_count": 27,
   "metadata": {},
   "outputs": [
    {
     "data": {
      "text/plain": [
       "Text(0.5, 1.0, 'fc3 output activations')"
      ]
     },
     "execution_count": 27,
     "metadata": {},
     "output_type": "execute_result"
    },
    {
     "data": {
      "image/png": "[encoded data removed]",
      "text/plain": [
       "<Figure size 1500x500 with 3 Axes>"
      ]
     },
     "metadata": {},
     "output_type": "display_data"
    },
    {
     "data": {
      "image/png": "[encoded data removed]",
      "text/plain": [
       "<Figure size 1500x500 with 3 Axes>"
      ]
     },
     "metadata": {},
     "output_type": "display_data"
    }
   ],
   "source": [
    "# ADD YOUR CODE HERE to plot distributions of activations\n",
    "# Plot histograms of the following variables:\n",
    "conv_act_hist, (input_act_hist, conv1_out_hist, conv2_out_hist) = plt.subplots(1, 3, figsize=(15, 5))\n",
    "#   input_activations\n",
    "input_act_hist.hist(input_activations)\n",
    "input_act_hist.set_title('input activations')\n",
    "#   conv1_output_activations\n",
    "conv1_out_hist.hist(conv1_output_activations)\n",
    "conv1_out_hist.set_title('conv1 output activations')\n",
    "#   conv2_output_activations\n",
    "conv2_out_hist.hist(conv2_output_activations)\n",
    "conv2_out_hist.set_title('conv2 output activations')\n",
    "\n",
    "fc_act_hist, (fc1_out_hist, fc2_out_hist, fc3_out_hist) = plt.subplots(1, 3, figsize=(15, 5))\n",
    "#   fc1_output_activations\n",
    "fc1_out_hist.hist(fc1_output_activations)\n",
    "fc1_out_hist.set_title('fc1 output activations')\n",
    "#   fc2_output_activations\n",
    "fc2_out_hist.hist(fc2_output_activations)\n",
    "fc2_out_hist.set_title('fc2 output activations')\n",
    "#   fc3_output_activation\n",
    "fc3_out_hist.hist(fc3_output_activations)\n",
    "fc3_out_hist.set_title('fc3 output activations')"
   ]
  },
  {
   "cell_type": "markdown",
   "metadata": {},
   "source": [
    "### Question 3.2:\n",
    "\n",
    "Additionally, **report the range of the values, as well as their 3-sigma range (the difference between $\\mu + 3\\sigma$ and $\\mu - 3\\sigma$) (0.5 point)**.\n",
    "For which layers is the 3-sigma range larger or smaller than the actual range?"
   ]
  },
  {
   "cell_type": "code",
   "execution_count": 28,
   "metadata": {},
   "outputs": [
    {
     "name": "stdout",
     "output_type": "stream",
     "text": [
      "input activations range: 2.0 , input activations 3-sigma range: 3.0112580829817004\n",
      "conv1 output activations range: 16.845272064208984 , conv1 output activations 3-sigma range: 7.250972805841307\n",
      "conv2 output activations range: 26.438520431518555 , conv2 output activations 3-sigma range: 9.183284547253532\n",
      "fc1 output activations range: 26.74045181274414 , fc1 output activations 3-sigma range: 7.678904795855551\n",
      "fc2 output activations range: 23.666065216064453 , fc2 output activations 3-sigma range: 8.770578582368001\n",
      "fc3 output activations range: 25.877568244934082 , fc3 output activations 3-sigma range: 32.31488903126553\n"
     ]
    }
   ],
   "source": [
    "# ADD YOUR CODE HERE to record the range and 3-sigma range of the activations\n",
    "# input\n",
    "input_act_range = torch.max(torch.from_numpy(input_activations)) - torch.min(torch.from_numpy(input_activations))\n",
    "input_act_3s_range = 6*torch.std(torch.from_numpy(input_activations))\n",
    "print('input activations range:', input_act_range.item(), ', input activations 3-sigma range:', input_act_3s_range.item())\n",
    "# conv1\n",
    "conv1_out_act_range = torch.max(torch.from_numpy(conv1_output_activations)) - torch.min(torch.from_numpy(conv1_output_activations))\n",
    "conv1_out_act_3s_range = 6*torch.std(torch.from_numpy(conv1_output_activations))\n",
    "print('conv1 output activations range:', conv1_out_act_range.item(), ', conv1 output activations 3-sigma range:', conv1_out_act_3s_range.item())\n",
    "# conv2\n",
    "conv2_out_act_range = torch.max(torch.from_numpy(conv2_output_activations)) - torch.min(torch.from_numpy(conv2_output_activations))\n",
    "conv2_out_act_3s_range = 6*torch.std(torch.from_numpy(conv2_output_activations))\n",
    "print('conv2 output activations range:', conv2_out_act_range.item(), ', conv2 output activations 3-sigma range:', conv2_out_act_3s_range.item())\n",
    "# fc1\n",
    "fc1_out_act_range = torch.max(torch.from_numpy(fc1_output_activations)) - torch.min(torch.from_numpy(fc1_output_activations))\n",
    "fc1_out_act_3s_range = 6*torch.std(torch.from_numpy(fc1_output_activations))\n",
    "print('fc1 output activations range:', fc1_out_act_range.item(), ', fc1 output activations 3-sigma range:', fc1_out_act_3s_range.item())\n",
    "# fc2\n",
    "fc2_out_act_range = torch.max(torch.from_numpy(fc2_output_activations)) - torch.min(torch.from_numpy(fc2_output_activations))\n",
    "fc2_out_act_3s_range = 6*torch.std(torch.from_numpy(fc2_output_activations))\n",
    "print('fc2 output activations range:', fc2_out_act_range.item(), ', fc2 output activations 3-sigma range:', fc2_out_act_3s_range.item())\n",
    "# fc3\n",
    "fc3_out_act_range = torch.max(torch.from_numpy(fc3_output_activations)) - torch.min(torch.from_numpy(fc3_output_activations))\n",
    "fc3_out_act_3s_range = 6*torch.std(torch.from_numpy(fc3_output_activations))\n",
    "print('fc3 output activations range:', fc3_out_act_range.item(), ', fc3 output activations 3-sigma range:', fc3_out_act_3s_range.item())"
   ]
  },
  {
   "cell_type": "markdown",
   "metadata": {},
   "source": [
    "## Question 4: Quantize Activations"
   ]
  },
  {
   "cell_type": "markdown",
   "metadata": {},
   "source": [
    "Now it is time to quantize the activations (inputs and outputs to layers) traveling through the CNN.\n",
    "Our equation now becomes:\n",
    "\n",
    "$$\\frac{W}{s_W}*\\frac{In}{s_{In}}*\\frac{1}{s_{Out} }= \\frac{Out}{s_Ws_{In}s_{Out}}$$\n",
    "\n",
    "where $s_{In}$ is the scaling factor which was applied to the input to the layer, and $s_{Out}$ is the scaling factor which we decide to apply to the output of the layer.\n",
    "$s_{Out}$ must be chosen such that the expected values of the elements of $Out$ can be scaled down to fit within 8 bits."
   ]
  },
  {
   "cell_type": "markdown",
   "metadata": {},
   "source": [
    "### Question 4.1:\n",
    "\n",
    "Before performing any quantization at all, we could describe the output of the `conv1` layer as:\n",
    "\n",
    "$$W_{conv1} * In = Out_{conv1}$$\n",
    "\n",
    "Suppose that we quantized the input matrix, $In$, scaling it by $s_{In}$.\n",
    "Suppose that we also scaled the weight matrix, $W_{conv1}$, by $s_{W_{conv1}}$, and the output matrix, $Out_{conv1}$, by $s_{Out_{conv1}}$.\n",
    "\n",
    "**In the lab report answer the following sub-questions for 4.1 (1 point).**:\n",
    "\n",
    "**(a)** Write an equation describing the output of the `conv1` layer with these new scaling parameters.\n",
    "\n",
    "**(b)** Write an equation describing the output of the `conv2` layer in terms of $In$, $W_{conv1}$, $W_{conv2}$, $Out_{conv1}$, $Out_{conv2}$, $s_{In}$, $s_{W_{conv1}}$, $s_{W_{conv2}}$, $s_{Out_{conv1}}$, and $s_{Out_{conv2}}$.\n",
    "You can pretend that the pooling layers do not exist."
   ]
  },
  {
   "cell_type": "markdown",
   "metadata": {},
   "source": [
    "### Question 4.2:\n",
    "\n",
    "**Complete the `quantize_initial_input` and `quantize_activations` functions which calculate the scaling factors for the initial image which is input to the CNN, and the outputs of each layer, respectively.** Again you can use 3-sigma range or min-max range.\n",
    "\n",
    "### Question 4.3:\n",
    "\n",
    "**Complete the `forward` function for the `NetQuantized` class.\n",
    "You will have to add code here to scale the outputs of each layer, and then to clamp the outputs of each layer to integers between -128 and 127 afterwards.**\n",
    "\n",
    "**Be careful with the data type (ndarray/tensor/scalar/tuple/float) specified and required by each function.**"
   ]
  },
  {
   "cell_type": "code",
   "execution_count": 34,
   "metadata": {},
   "outputs": [],
   "source": [
    "from typing import List\n",
    "\n",
    "class NetQuantized(nn.Module):\n",
    "    def __init__(self, net_with_weights_quantized: nn.Module):\n",
    "        super(NetQuantized, self).__init__()\n",
    "        \n",
    "        net_init = copy_model(net_with_weights_quantized)\n",
    "\n",
    "        self.conv1 = net_init.conv1\n",
    "        self.pool = net_init.pool\n",
    "        self.conv2 = net_init.conv2\n",
    "        self.fc1 = net_init.fc1\n",
    "        self.fc2 = net_init.fc2\n",
    "        self.fc3 = net_init.fc3\n",
    "\n",
    "        for layer in self.conv1, self.conv2, self.fc1, self.fc2, self.fc3:\n",
    "            def pre_hook(l, x):\n",
    "                x = x[0]\n",
    "                if (x < -128).any() or (x > 127).any():\n",
    "                    raise Exception(\"Input to {} layer is out of bounds for an 8-bit signed integer\".format(l.__class__.__name__))\n",
    "                if (x != x.round()).any():\n",
    "                    raise Exception(\"Input to {} layer has non-integer values\".format(l.__class__.__name__))\n",
    "\n",
    "            layer.register_forward_pre_hook(pre_hook)\n",
    "\n",
    "        # Calculate the scaling factor for the initial input to the CNN\n",
    "        self.input_activations = net_with_weights_quantized.input_activations\n",
    "        self.input_scale = NetQuantized.quantize_initial_input(self.input_activations)\n",
    "\n",
    "        # Calculate the output scaling factors for all the layers of the CNN\n",
    "        preceding_layer_scales = []\n",
    "        for layer in self.conv1, self.conv2, self.fc1, self.fc2, self.fc3:\n",
    "            layer.output_scale = NetQuantized.quantize_activations(layer.activations, layer.weight.scale, self.input_scale, preceding_layer_scales)\n",
    "            preceding_layer_scales.append((layer.weight.scale, layer.output_scale))\n",
    "\n",
    "    @staticmethod\n",
    "    def quantize_initial_input(pixels: np.ndarray) -> float:\n",
    "        '''\n",
    "        Calculate a scaling factor for the images that are input to the first layer of the CNN.\n",
    "        Remember to use symmetric scaling (zero-point = 0)\n",
    "        Parameters:\n",
    "        pixels (ndarray): The values of all the pixels which were part of the input image during training\n",
    "\n",
    "        Returns:\n",
    "        float: A scaling factor that the input should be multiplied by before being fed into the first layer.\n",
    "               This value does not need to be an 8-bit integer.\n",
    "        '''\n",
    "\n",
    "        # ADD YOUR CODE HERE\n",
    "        pixels = torch.from_numpy(pixels)\n",
    "        u = torch.mean(pixels)\n",
    "        sigma = torch.std(pixels)\n",
    "        pixels_range = torch.max((u+3*sigma), torch.abs(u-3*sigma)) * 2\n",
    "        # pixels_range = 6 * torch.std(torch.from_numpy(pixels))\n",
    "        s_in = pixels_range / (127 - (-128))\n",
    "        return s_in\n",
    "\n",
    "    @staticmethod\n",
    "    def quantize_activations(activations: np.ndarray, s_w: float, s_initial_input: float, ss: List[Tuple[float, float]]) -> float:\n",
    "        '''\n",
    "        Calculate a scaling factor to multiply the output of a layer by.\n",
    "        Remember to use symmetric scaling (zero-point = 0)\n",
    "        Parameters:\n",
    "        activations (ndarray): The values of all the pixels which have been output by this layer during training\n",
    "        s_w (float): The scale by which the weights of this layer were multiplied as part of the \"quantize_weights\" function you wrote earlier\n",
    "        s_initial_input (float): The scale by which the initial input to the neural network was multiplied\n",
    "        ss ([(float, float)]): A list of tuples, where each tuple represents the \"weight scale\" and \"output scale\" (in that order) for every preceding layer\n",
    "\n",
    "        Returns:\n",
    "        float: A scaling factor that the layer output should be multiplied by before being fed into the first layer.\n",
    "               This value does not need to be an 8-bit integer.\n",
    "        '''\n",
    "        \n",
    "        #ADD YOUR CODE HERE \n",
    "        activations = torch.from_numpy(activations)\n",
    "        u = torch.mean(activations)\n",
    "        sigma = torch.std(activations)\n",
    "        act_range = torch.max((u+3*sigma), torch.abs(u-3*sigma)) * 2\n",
    "        # act_range = 6 * torch.std(torch.from_numpy(activations))\n",
    "        s_act = act_range / (127 - (-128))\n",
    "        if (len(ss) == 0):\n",
    "            ss.insert(0, (1.0, s_initial_input))\n",
    "        s_act = s_act / s_w\n",
    "        for i in range(len(ss)):\n",
    "            s_act = s_act / ss[i][0] / ss[i][1]\n",
    "        return s_act\n",
    "\n",
    "    def forward(self, x: torch.Tensor) -> torch.Tensor:\n",
    "        # You can access the output activation scales like this:\n",
    "        #   fc1_output_scale = self.fc1.output_scale\n",
    "\n",
    "        # To make sure that the outputs of each layer are integers between -128 and 127, you may need to use the following functions:\n",
    "        #   * torch.round\n",
    "        #   * torch.clamp\n",
    "\n",
    "        # ADD YOUR CODE HERE \n",
    "        x = torch.clamp(torch.round(x / self.input_scale), min=-128, max=127)\n",
    "        x = self.pool(F.relu(self.conv1(x)))\n",
    "        x = torch.clamp(torch.round(x / self.conv1.output_scale), min=-128, max=127)\n",
    "        x = self.pool(F.relu(self.conv2(x)))\n",
    "        x = torch.clamp(torch.round(x / self.conv2.output_scale), min=-128, max=127)\n",
    "        x = x.view(-1, 32 * 6 * 6)\n",
    "        x = F.relu(self.fc1(x))\n",
    "        x = torch.clamp(torch.round(x / self.fc1.output_scale), min=-128, max=127)\n",
    "        x = F.relu(self.fc2(x))\n",
    "        x = torch.clamp(torch.round(x / self.fc2.output_scale), min=-128, max=127)\n",
    "        x = self.fc3(x)\n",
    "        x = torch.clamp(torch.round(x / self.fc3.output_scale), min=-128, max=127)\n",
    "\n",
    "        return x"
   ]
  },
  {
   "cell_type": "code",
   "execution_count": 35,
   "metadata": {},
   "outputs": [],
   "source": [
    "# Merge the information from net_q2 and net_q3 together\n",
    "net_init = copy_model(net_q2)  \n",
    "net_init.input_activations = deepcopy(net_q3.input_activations) \n",
    "for layer_init, layer_q3 in zip(net_init.children(), net_q3.children()):\n",
    "    if isinstance(layer_init, nn.Conv2d) or isinstance(layer_init, nn.Linear):\n",
    "        layer_init.activations = deepcopy(layer_q3.activations)\n",
    "\n",
    "net_quantized = NetQuantized(net_init)"
   ]
  },
  {
   "cell_type": "markdown",
   "metadata": {},
   "source": [
    "### Question 4.4:\n",
    "\n",
    "Finally, record the accuracy of your network after both weights and activations have been quantized.\n",
    "If you've done everything right, you should still find little accuracy change. **Report the accuracy. (1 point)**"
   ]
  },
  {
   "cell_type": "code",
   "execution_count": 36,
   "metadata": {},
   "outputs": [
    {
     "name": "stdout",
     "output_type": "stream",
     "text": [
      "Accuracy of the network after quantizing both weights and activations: 60.88%\n"
     ]
    }
   ],
   "source": [
    "score = test(net_quantized, testloader)\n",
    "print('Accuracy of the network after quantizing both weights and activations: {}%'.format(score))"
   ]
  },
  {
   "cell_type": "markdown",
   "metadata": {},
   "source": [
    "## Question 5: Quantize Biases\n",
    "Let us now update our CNN to include a bias in its final layer, *fc3*.\n",
    "We have already included code to create and train a new CNN called `net_with_bias`.\n",
    "\n",
    "Consider how a bias affects the equation for an unquantized layer:\n",
    "\n",
    "$$W * In + \\beta = Out$$\n",
    "\n",
    "where $\\beta$ is the bias."
   ]
  },
  {
   "cell_type": "markdown",
   "metadata": {},
   "source": [
    "### Question 5.1:\n",
    "\n",
    "Suppose that we again quantized a biased layer with the same scaling factors we used in previous questions: $s_W$, $s_{In}$, and $s_{Out}$.\n",
    "What would we scale $\\beta$ by in this case?\n",
    "**Write an equation in your lab report to describe the output of the quantized layer with a bias (1 point).**"
   ]
  },
  {
   "cell_type": "markdown",
   "metadata": {},
   "source": [
    "Create a new network with a bias on *fc3*."
   ]
  },
  {
   "cell_type": "code",
   "execution_count": 37,
   "metadata": {},
   "outputs": [],
   "source": [
    "class NetWithBias(nn.Module):\n",
    "    def __init__(self):\n",
    "        super(NetWithBias, self).__init__()\n",
    "\n",
    "        self.conv1 = nn.Conv2d(3, 12, 5, bias=False)\n",
    "        self.pool = nn.MaxPool2d(2, 2)\n",
    "        self.conv2 = nn.Conv2d(12, 32, 3, bias=False)\n",
    "        self.fc1 = nn.Linear(32 * 6 * 6, 256, bias=False)\n",
    "        self.fc2 = nn.Linear(256, 64, bias=False)\n",
    "        self.fc3 = nn.Linear(64, 10, bias=True)\n",
    "\n",
    "    def forward(self, x: torch.Tensor) -> torch.Tensor:\n",
    "        x = self.pool(F.relu(self.conv1(x)))\n",
    "        x = self.pool(F.relu(self.conv2(x)))\n",
    "        x = x.view(-1, 32 * 6 * 6)\n",
    "        x = F.relu(self.fc1(x))\n",
    "        x = F.relu(self.fc2(x))\n",
    "        x = self.fc3(x)\n",
    "        return x\n",
    "\n",
    "net_with_bias = NetWithBias().to(device)"
   ]
  },
  {
   "cell_type": "markdown",
   "metadata": {},
   "source": [
    "Train and score the network."
   ]
  },
  {
   "cell_type": "code",
   "execution_count": 38,
   "metadata": {},
   "outputs": [
    {
     "name": "stdout",
     "output_type": "stream",
     "text": [
      "[Epoch: 1, Iteration:   100] loss: 2.254\n",
      "[Epoch: 1, Iteration:   200] loss: 1.928\n",
      "[Epoch: 1, Iteration:   300] loss: 1.677\n",
      "[Epoch: 1, Iteration:   400] loss: 1.593\n",
      "[Epoch: 1, Iteration:   500] loss: 1.516\n",
      "[Epoch: 2, Iteration:   100] loss: 1.432\n",
      "[Epoch: 2, Iteration:   200] loss: 1.376\n",
      "[Epoch: 2, Iteration:   300] loss: 1.287\n",
      "[Epoch: 2, Iteration:   400] loss: 1.290\n",
      "[Epoch: 2, Iteration:   500] loss: 1.226\n",
      "[Epoch: 3, Iteration:   100] loss: 1.167\n",
      "[Epoch: 3, Iteration:   200] loss: 1.158\n",
      "[Epoch: 3, Iteration:   300] loss: 1.098\n",
      "[Epoch: 3, Iteration:   400] loss: 1.093\n",
      "[Epoch: 3, Iteration:   500] loss: 1.045\n",
      "[Epoch: 4, Iteration:   100] loss: 1.001\n",
      "[Epoch: 4, Iteration:   200] loss: 1.007\n",
      "[Epoch: 4, Iteration:   300] loss: 0.955\n",
      "[Epoch: 4, Iteration:   400] loss: 0.942\n",
      "[Epoch: 4, Iteration:   500] loss: 0.904\n",
      "[Epoch: 5, Iteration:   100] loss: 0.861\n",
      "[Epoch: 5, Iteration:   200] loss: 0.862\n",
      "[Epoch: 5, Iteration:   300] loss: 0.823\n",
      "[Epoch: 5, Iteration:   400] loss: 0.813\n",
      "[Epoch: 5, Iteration:   500] loss: 0.783\n",
      "[Epoch: 6, Iteration:   100] loss: 0.773\n",
      "[Epoch: 6, Iteration:   200] loss: 0.767\n",
      "[Epoch: 6, Iteration:   300] loss: 0.724\n",
      "[Epoch: 6, Iteration:   400] loss: 0.716\n",
      "[Epoch: 6, Iteration:   500] loss: 0.701\n",
      "[Epoch: 7, Iteration:   100] loss: 0.680\n",
      "[Epoch: 7, Iteration:   200] loss: 0.691\n",
      "[Epoch: 7, Iteration:   300] loss: 0.642\n",
      "[Epoch: 7, Iteration:   400] loss: 0.636\n",
      "[Epoch: 7, Iteration:   500] loss: 0.630\n",
      "[Epoch: 8, Iteration:   100] loss: 0.603\n",
      "[Epoch: 8, Iteration:   200] loss: 0.619\n",
      "[Epoch: 8, Iteration:   300] loss: 0.570\n",
      "[Epoch: 8, Iteration:   400] loss: 0.571\n",
      "[Epoch: 8, Iteration:   500] loss: 0.632\n",
      "[Epoch: 9, Iteration:   100] loss: 0.547\n",
      "[Epoch: 9, Iteration:   200] loss: 0.536\n",
      "[Epoch: 9, Iteration:   300] loss: 0.493\n",
      "[Epoch: 9, Iteration:   400] loss: 0.514\n",
      "[Epoch: 9, Iteration:   500] loss: 0.535\n",
      "[Epoch: 10, Iteration:   100] loss: 0.497\n",
      "[Epoch: 10, Iteration:   200] loss: 0.474\n",
      "[Epoch: 10, Iteration:   300] loss: 0.441\n",
      "[Epoch: 10, Iteration:   400] loss: 0.479\n",
      "[Epoch: 10, Iteration:   500] loss: 0.498\n",
      "Finished Training\n"
     ]
    }
   ],
   "source": [
    "train(net_with_bias, trainloader)"
   ]
  },
  {
   "cell_type": "code",
   "execution_count": 39,
   "metadata": {},
   "outputs": [
    {
     "name": "stdout",
     "output_type": "stream",
     "text": [
      "Accuracy of the network (with a bias) on the test images: 60.82%\n"
     ]
    }
   ],
   "source": [
    "score = test(net_with_bias, testloader)\n",
    "print('Accuracy of the network (with a bias) on the test images: {}%'.format(score))"
   ]
  },
  {
   "cell_type": "markdown",
   "metadata": {},
   "source": [
    "Test the network with quantized weights but unquantized bias and **report the accuracy (1 point)**."
   ]
  },
  {
   "cell_type": "code",
   "execution_count": 40,
   "metadata": {},
   "outputs": [],
   "source": [
    "register_activation_profiling_hooks(net_with_bias)\n",
    "test(net_with_bias, trainloader, max_samples=400)\n",
    "net_with_bias.profile_activations = False"
   ]
  },
  {
   "cell_type": "code",
   "execution_count": 41,
   "metadata": {},
   "outputs": [
    {
     "name": "stdout",
     "output_type": "stream",
     "text": [
      "Accuracy of the network on the test images after all the weights are quantized but the bias isn't: 57.62%\n"
     ]
    }
   ],
   "source": [
    "net_with_bias_with_quantized_weights = copy_model(net_with_bias)\n",
    "quantize_layer_weights(net_with_bias_with_quantized_weights)\n",
    "\n",
    "score = test(net_with_bias_with_quantized_weights, testloader)\n",
    "print('Accuracy of the network on the test images after all the weights are quantized but the bias isn\\'t: {}%'.format(score))"
   ]
  },
  {
   "cell_type": "markdown",
   "metadata": {},
   "source": [
    "### Question 5.2:\n",
    "\n",
    "Fill in the `quantized_bias` function in the `NetQuantizedWithBias` class.\n",
    "This function is meant to quantize the bias on the final layer of the CNN. You are suggested to use the method covered in the lecture.\n",
    "Keep in mind that biases are typically quantized to 32-bits, so your bias values do not all have to be between -128 and 127 (though 32-bits is a bit conservative)."
   ]
  },
  {
   "cell_type": "code",
   "execution_count": 42,
   "metadata": {},
   "outputs": [],
   "source": [
    "# slightly clearer bias bounds (32b signed integer)\n",
    "MIN_32B_SINT = -(2**31)\n",
    "MAX_32B_SINT = (2**31) - 1"
   ]
  },
  {
   "cell_type": "code",
   "execution_count": 43,
   "metadata": {},
   "outputs": [],
   "source": [
    "class NetQuantizedWithBias(NetQuantized): # get quantized weights & activations\n",
    "    def __init__(self, net_with_weights_quantized: nn.Module):\n",
    "        super(NetQuantizedWithBias, self).__init__(net_with_weights_quantized)\n",
    "        \n",
    "        preceding_scales = [(layer.weight.scale, layer.output_scale) for layer in self.children() if isinstance(layer, nn.Conv2d) or isinstance(layer, nn.Linear)][:-1]\n",
    "\n",
    "        #print(self.fc3.bias.data)\n",
    "        self.fc3.bias.data = NetQuantizedWithBias.quantized_bias(\n",
    "            self.fc3.bias.data,\n",
    "            self.fc3.weight.scale,\n",
    "            self.input_scale,\n",
    "            preceding_scales\n",
    "        )\n",
    "        #print(self.fc3.bias.data)\n",
    "\n",
    "        if (self.fc3.bias.data < MIN_32B_SINT).any() or (self.fc3.bias.data > MAX_32B_SINT).any():\n",
    "               raise Exception(\"Bias has values which are out of bounds for an 32-bit signed integer\")\n",
    "        if (self.fc3.bias.data != self.fc3.bias.data.round()).any():\n",
    "             raise Exception(\"Bias has non-integer values\")\n",
    "\n",
    "    @staticmethod\n",
    "    def quantized_bias(bias: torch.Tensor, s_w: float, s_initial_input: float, ss: List[Tuple[float, float]]) -> torch.Tensor:\n",
    "        '''\n",
    "        Quantize the bias so that all values are integers between MIN_32B_SINT and MAX_32B_SINT.\n",
    "\n",
    "        Parameters:\n",
    "        bias (Tensor): The floating point values of the bias\n",
    "        s_w (float): The scale by which the weights of this layer were multiplied\n",
    "        s_initial_input (float): The scale by which the initial input to the neural network was multiplied\n",
    "        ss ([(float, float)]): A list of tuples, where each tuple represents the \"weight scale\" and \"output scale\" (in that order) for every preceding layer\n",
    "\n",
    "        Returns:\n",
    "        Tensor: The bias in quantized form, where every value is an integer between MIN_32B_SINT and MAX_32B_SINT.\n",
    "                The \"dtype\" will still be \"float\", but the values themselves should all be integers.\n",
    "        '''\n",
    "\n",
    "        # ADD YOUR CODE HERE to compute and replace the scale for bias (scale_bias)\n",
    "        \n",
    "        scale_bias = 1\n",
    "        scale_bias = s_w * ss[-1][1]\n",
    "\n",
    "        return torch.clamp((bias * scale_bias).round(), min=MIN_32B_SINT, max=MAX_32B_SINT)\n"
   ]
  },
  {
   "cell_type": "code",
   "execution_count": 44,
   "metadata": {},
   "outputs": [],
   "source": [
    "net_quantized_with_bias = NetQuantizedWithBias(net_with_bias_with_quantized_weights)"
   ]
  },
  {
   "cell_type": "markdown",
   "metadata": {},
   "source": [
    "### Question 5.3:\n",
    "\n",
    "What is your accuracy before and after quantizing CNN with the bias?\n",
    "The accuracy change should ideally be negligible or at least partially improved. **Report the value. (1 point)**"
   ]
  },
  {
   "cell_type": "code",
   "execution_count": 45,
   "metadata": {},
   "outputs": [
    {
     "name": "stdout",
     "output_type": "stream",
     "text": [
      "Accuracy of the network on the test images after all the weights and the bias are quantized: 56.06%\n"
     ]
    }
   ],
   "source": [
    "score = test(net_quantized_with_bias, testloader)\n",
    "print('Accuracy of the network on the test images after all the weights and the bias are quantized: {}%'.format(score))"
   ]
  },
  {
   "cell_type": "markdown",
   "metadata": {},
   "source": [
    "###  Bonus:\n",
    "When quantizing weights and activations, please evaluate the impact on model accuracy by comparing the use of the maximum absolute value of the actual range with the maximum absolute value of the 3-sigma range ($\\mu + 3\\sigma$ and $\\mu - 3\\sigma$) for calculating the quantization scale. Include these findings in your report and provide an analysis of the underlying reasons for any observed differences. \n",
    "\n",
    "Additionally, consider employing a third method, such as the entropy-based quantization technique discussed in class. It is recommended that you create a copy of the current script, adjust the scale calculation method in the copy, and re-run the experiments to ensure that your changes do not affect the original results."
   ]
  }
 ],
 "metadata": {
  "kernelspec": {
   "display_name": "torch",
   "language": "python",
   "name": "python3"
  },
  "language_info": {
   "codemirror_mode": {
    "name": "ipython",
    "version": 3
   },
   "file_extension": ".py",
   "mimetype": "text/x-python",
   "name": "python",
   "nbconvert_exporter": "python",
   "pygments_lexer": "ipython3",
   "version": "3.9.19"
  }
 },
 "nbformat": 4,
 "nbformat_minor": 2
}
