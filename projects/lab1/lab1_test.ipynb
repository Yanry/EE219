{
 "cells": [
  {
   "cell_type": "code",
   "execution_count": 39,
   "metadata": {},
   "outputs": [
    {
     "name": "stdout",
     "output_type": "stream",
     "text": [
      "推理输出： tensor([[-0.1260, -1.0489,  0.3045,  0.9844, -0.0861,  0.8520,  0.4456, -0.4481,\n",
      "         -0.4066, -0.7440]], grad_fn=<MmBackward0>)\n",
      "Predicted label: 3\n",
      "Ground truth: 3\n"
     ]
    },
    {
     "data": {
      "image/png": "[encoded data removed]",
      "text/plain": [
       "<Figure size 640x480 with 1 Axes>"
      ]
     },
     "metadata": {},
     "output_type": "display_data"
    }
   ],
   "source": [
    "import torch\n",
    "import torch.nn as nn\n",
    "import torch.nn.functional as F\n",
    "\n",
    "import numpy as np\n",
    "import matplotlib.pyplot as plt\n",
    "import imageio.v2 as imageio\n",
    "from skimage.transform import resize\n",
    "\n",
    "# 定义 LeNet-5 网络结构\n",
    "class LeNet5(nn.Module):\n",
    "    def __init__(self):\n",
    "        super(LeNet5, self).__init__()\n",
    "        # C1: 输入1通道，输出6通道，卷积核大小为5x5\n",
    "        self.conv1 = nn.Conv2d(in_channels=3, out_channels=12, kernel_size=5, stride=1, padding=0, bias=False)\n",
    "        # S2: 平均池化，核大小为2x2\n",
    "        self.pool1 = nn.MaxPool2d(kernel_size=2, stride=2)\n",
    "        # C3: 输入6通道，输出16通道，卷积核大小为5x5\n",
    "        self.conv2 = nn.Conv2d(in_channels=12, out_channels=32, kernel_size=3, stride=1, padding=0, bias=False)\n",
    "        # S4: 平均池化，核大小为2x2\n",
    "        self.pool2 = nn.MaxPool2d(kernel_size=2, stride=2)\n",
    "        # C5: 全连接卷积层，输入16通道，输出120通道，卷积核大小为5x5\n",
    "        self.fc1 = nn.Linear(in_features=1152, out_features=256, bias=False)\n",
    "        # 输出层: 输入84，输出10\n",
    "        self.fc2 = nn.Linear(in_features=256, out_features=64, bias=False)\n",
    "        # 输出层: 输入64，输出10\n",
    "        self.fc3 = nn.Linear(in_features=64, out_features=10, bias=False)\n",
    "\n",
    "    def forward(self, x):\n",
    "        # C1 卷积层 + 激活函数\n",
    "        x = self.conv1(x)   # 输入: 32x32x3, 输出: 28x28x12\n",
    "        x = F.relu(x)\n",
    "        # S2 池化层\n",
    "        x = self.pool1(x)           # 输出: 14x14x6\n",
    "        # C3 卷积层 + 激活函数\n",
    "        x = F.relu(self.conv2(x))   # 输出: 10x10x16\n",
    "        # S4 池化层\n",
    "        x = self.pool2(x)           # 输出: 5x5x16\n",
    "        # x = x.view(-1, 120)         # 将特征拉平为1D向量\n",
    "        x = x.reshape(len(x), -1)\n",
    "        # F6 全连接层 + 激活函数\n",
    "        x = F.relu(self.fc1(x))     # 输出: 84\n",
    "        # 输出层\n",
    "        x = F.relu(self.fc2(x))             # 输出: 10\n",
    "        x = self.fc3(x)\n",
    "        return x\n",
    "\n",
    "# 创建模型实例\n",
    "model = LeNet5()\n",
    "model.load_state_dict(torch.load('./model/model.pth', weights_only=True))\n",
    "\n",
    "input_image = imageio.imread('./pictures/bird1.png')\n",
    "\n",
    "# TODO (5 pts)\n",
    "# normalize the pixel into [0,1]\n",
    "image = (input_image - np.min(input_image)) / (np.max(input_image) - np.min(input_image))\n",
    "\n",
    "# TODO (5 pts)\n",
    "# alter the size of the pixel matrix from (32,32,3) to (1,3,32,32) to fit convolution layer\n",
    "image = np.transpose(image, (2, 0, 1)).reshape(1, 3, 32, 32)\n",
    "image = torch.from_numpy(image).to(torch.float32)\n",
    "# 进行前向传播（推理）\n",
    "output = model(image)\n",
    "\n",
    "# 输出推理结果\n",
    "print(\"推理输出：\", output)\n",
    "output = output.cpu().detach().numpy()\n",
    "label = np.argmax(output)\n",
    "\n",
    "import matplotlib.pyplot as plt\n",
    "# visualize the picture to be classified\n",
    "plt.imshow(input_image)\n",
    "print(\"Predicted label:\",label)\n",
    "print(\"Ground truth: 3\")"
   ]
  }
 ],
 "metadata": {
  "kernelspec": {
   "display_name": "torch",
   "language": "python",
   "name": "python3"
  },
  "language_info": {
   "codemirror_mode": {
    "name": "ipython",
    "version": 3
   },
   "file_extension": ".py",
   "mimetype": "text/x-python",
   "name": "python",
   "nbconvert_exporter": "python",
   "pygments_lexer": "ipython3",
   "version": "3.9.19"
  }
 },
 "nbformat": 4,
 "nbformat_minor": 2
}
